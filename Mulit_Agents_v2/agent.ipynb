{
 "cells": [
  {
   "cell_type": "code",
   "execution_count": 87,
   "metadata": {},
   "outputs": [],
   "source": [
    "from pydantic_ai import Agent\n",
    "from dotenv import load_dotenv\n",
    "from datetime import datetime\n",
    "from typing import List, Optional\n",
    "from enum import Enum\n",
    "from pydantic import BaseModel, Field, field_validator\n",
    "from typing_extensions import Literal\n",
    "import os \n",
    "import asyncio\n",
    "import nest_asyncio \n",
    "nest_asyncio.apply()"
   ]
  },
  {
   "cell_type": "code",
   "execution_count": 88,
   "metadata": {},
   "outputs": [],
   "source": [
    "load_dotenv()\n",
    "os.environ[\"OPENAI_API_KEY\"] = os.getenv(\"OPENAI_API_KEY\")\n",
    "os.environ[\"GEMINI_API_KEY\"] = os.getenv(\"GOOGLE_API_KEY\")"
   ]
  },
  {
   "cell_type": "code",
   "execution_count": 95,
   "metadata": {},
   "outputs": [],
   "source": [
    "model=\"openai:gpt-4o-mini\"\n",
    "# model= 'gemini-1.5-flash'"
   ]
  },
  {
   "cell_type": "markdown",
   "metadata": {},
   "source": [
    "Models "
   ]
  },
  {
   "cell_type": "code",
   "execution_count": 96,
   "metadata": {},
   "outputs": [],
   "source": [
    "\n",
    "\n",
    "class RequestType(str, Enum):\n",
    "    CONSULTATION = \"consultation\"\n",
    "    FOLLOW_UP = \"follow_up\"\n",
    "    NEW_PATIENT = \"new_patient\"\n",
    "\n",
    "class AppointmentDetails(BaseModel):\n",
    "    patient_name: str\n",
    "    doctor_id: str\n",
    "    preferred_date: str = Field(..., description=\"Date in MM/DD/YYYY format\")\n",
    "    preferred_time: str = Field(..., description=\"Time in HH:MM AM/PM format\")\n",
    "    request_type: RequestType\n",
    "\n",
    "    @field_validator('preferred_date')\n",
    "    @classmethod\n",
    "    def validate_date_format(cls, v: str) -> str:\n",
    "        try:\n",
    "            datetime.strptime(v, '%m/%d/%Y')\n",
    "        except ValueError:\n",
    "            raise ValueError('Date must be in MM/DD/YYYY format')\n",
    "        return v\n",
    "\n",
    "    @field_validator('preferred_time')\n",
    "    @classmethod\n",
    "    def validate_time_format(cls, v: str) -> str:\n",
    "        try:\n",
    "            datetime.strptime(v, '%I:%M %p')\n",
    "        except ValueError:\n",
    "            raise ValueError('Time must be in HH:MM AM/PM format')\n",
    "        return v\n",
    "\n",
    "class AppointmentBooking(BaseModel):\n",
    "    agent: Literal[\"appointment\"]\n",
    "    intent: Literal[\"book_appointment\"]\n",
    "    details: AppointmentDetails\n",
    "    missing_fields: Optional[List[str]] = Field(default_factory=list)"
   ]
  },
  {
   "cell_type": "code",
   "execution_count": 102,
   "metadata": {},
   "outputs": [],
   "source": [
    "# Define the Agent\n",
    "agent = Agent(\n",
    "    system_prompt=(\n",
    "        \"You are the ADRD care system orchestrator. Analyze each message and determine the user's intent. \"\n",
    "        \"Make sure to take the user's information into account. Without asking for any additional information. \"\n",
    "        \"Your response should be in this format. Rules: don't just assume the information if you're missing any information, \"\n",
    "        \"just add to the missing fields as given.\"\n",
    "    ),\n",
    "    model=model,  \n",
    "    result_type=AppointmentBooking,  \n",
    "    deps_type=None,\n",
    "    retries=3,\n",
    ")"
   ]
  },
  {
   "cell_type": "code",
   "execution_count": 105,
   "metadata": {},
   "outputs": [
    {
     "name": "stdout",
     "output_type": "stream",
     "text": [
      "RunResult(_all_messages=[SystemPrompt(content=\"You are the ADRD care system orchestrator. Analyze each message and determine the user's intent. Make sure to take the user's information into account. Without asking for any additional information. Your response should be in this format. Rules: don't just assume the information if you're missing any information, just add to the missing fields as given.\", role='system'), UserPrompt(content='hey there can you make an appointment with dr_001 on november 12 2024 about 9am for follow up', timestamp=datetime.datetime(2024, 12, 11, 6, 13, 39, 712642, tzinfo=datetime.timezone.utc), role='user'), ModelStructuredResponse(calls=[ToolCall(tool_name='final_result', args=ArgsJson(args_json='{\"agent\":\"ADRD Care System\",\"intent\":\"book_appointment\",\"details\":{\"patient_name\":\"Unknown\",\"doctor_id\":\"dr_001\",\"preferred_date\":\"11/12/2024\",\"preferred_time\":\"09:00 AM\",\"request_type\":\"follow_up\"},\"missing_fields\":[\"patient_name\"]}'), tool_id='call_mnyVYd7CRUCooSx7nnFkyIBE')], timestamp=datetime.datetime(2024, 12, 11, 6, 13, 43, tzinfo=datetime.timezone.utc), role='model-structured-response'), RetryPrompt(content=[{'type': 'literal_error', 'loc': ('agent',), 'msg': \"Input should be 'appointment'\", 'input': 'ADRD Care System', 'ctx': {'expected': \"'appointment'\"}}], tool_name='final_result', tool_id='call_mnyVYd7CRUCooSx7nnFkyIBE', timestamp=datetime.datetime(2024, 12, 11, 6, 13, 42, 465938, tzinfo=datetime.timezone.utc), role='retry-prompt'), ModelStructuredResponse(calls=[ToolCall(tool_name='final_result', args=ArgsJson(args_json='{\"agent\":\"appointment\",\"intent\":\"book_appointment\",\"details\":{\"patient_name\":\"Unknown\",\"doctor_id\":\"dr_001\",\"preferred_date\":\"11/12/2024\",\"preferred_time\":\"09:00 AM\",\"request_type\":\"follow_up\"},\"missing_fields\":[\"patient_name\"]}'), tool_id='call_LpKVE7DI35tK3mbUjiAgobpj')], timestamp=datetime.datetime(2024, 12, 11, 6, 13, 44, tzinfo=datetime.timezone.utc), role='model-structured-response'), ToolReturn(tool_name='final_result', content='Final result processed.', tool_id='call_LpKVE7DI35tK3mbUjiAgobpj', timestamp=datetime.datetime(2024, 12, 11, 6, 13, 43, 716794, tzinfo=datetime.timezone.utc), role='tool-return')], _new_message_index=1, data=AppointmentBooking(agent='appointment', intent='book_appointment', details=AppointmentDetails(patient_name='Unknown', doctor_id='dr_001', preferred_date='11/12/2024', preferred_time='09:00 AM', request_type=<RequestType.FOLLOW_UP: 'follow_up'>), missing_fields=['patient_name']), _cost=Cost(request_tokens=612, response_tokens=135, total_tokens=747, details={'accepted_prediction_tokens': 0, 'audio_tokens': 0, 'reasoning_tokens': 0, 'rejected_prediction_tokens': 0, 'cached_tokens': 0}))\n"
     ]
    }
   ],
   "source": [
    "result = await agent.run(\"hey there can you make an appointment with dr_001 on november 12 2024 about 9am for follow up\")\n",
    "print(result)"
   ]
  },
  {
   "cell_type": "code",
   "execution_count": 106,
   "metadata": {},
   "outputs": [
    {
     "data": {
      "text/plain": [
       "AppointmentBooking(agent='appointment', intent='book_appointment', details=AppointmentDetails(patient_name='Unknown', doctor_id='dr_001', preferred_date='11/12/2024', preferred_time='09:00 AM', request_type=<RequestType.FOLLOW_UP: 'follow_up'>), missing_fields=['patient_name'])"
      ]
     },
     "execution_count": 106,
     "metadata": {},
     "output_type": "execute_result"
    }
   ],
   "source": [
    "result.data"
   ]
  },
  {
   "cell_type": "code",
   "execution_count": null,
   "metadata": {},
   "outputs": [],
   "source": []
  }
 ],
 "metadata": {
  "kernelspec": {
   "display_name": ".venv",
   "language": "python",
   "name": "python3"
  },
  "language_info": {
   "codemirror_mode": {
    "name": "ipython",
    "version": 3
   },
   "file_extension": ".py",
   "mimetype": "text/x-python",
   "name": "python",
   "nbconvert_exporter": "python",
   "pygments_lexer": "ipython3",
   "version": "3.11.1"
  }
 },
 "nbformat": 4,
 "nbformat_minor": 2
}
